{
  "cells": [
    {
      "cell_type": "code",
      "execution_count": null,
      "metadata": {
        "colab": {
          "base_uri": "https://localhost:8080/",
          "height": 400
        },
        "id": "4hF3jNv4m7vC",
        "outputId": "b3cc89b3-6c20-4fa6-be07-443035f443a9"
      },
      "outputs": [
        {
          "output_type": "stream",
          "name": "stdout",
          "text": [
            "Welcome to the calculator\n"
          ]
        },
        {
          "output_type": "error",
          "ename": "KeyboardInterrupt",
          "evalue": "Interrupted by user",
          "traceback": [
            "\u001b[0;31m---------------------------------------------------------------------------\u001b[0m",
            "\u001b[0;31mKeyboardInterrupt\u001b[0m                         Traceback (most recent call last)",
            "\u001b[0;32m<ipython-input-47-3345618283dc>\u001b[0m in \u001b[0;36m<cell line: 3>\u001b[0;34m()\u001b[0m\n\u001b[1;32m      1\u001b[0m \u001b[0mprint\u001b[0m\u001b[0;34m(\u001b[0m\u001b[0;34m\"Welcome to the calculator\"\u001b[0m\u001b[0;34m)\u001b[0m\u001b[0;34m\u001b[0m\u001b[0;34m\u001b[0m\u001b[0m\n\u001b[1;32m      2\u001b[0m \u001b[0;34m\u001b[0m\u001b[0m\n\u001b[0;32m----> 3\u001b[0;31m \u001b[0mname\u001b[0m \u001b[0;34m=\u001b[0m \u001b[0minput\u001b[0m\u001b[0;34m(\u001b[0m\u001b[0;34m\"What is your name?: \"\u001b[0m\u001b[0;34m)\u001b[0m\u001b[0;34m\u001b[0m\u001b[0;34m\u001b[0m\u001b[0m\n\u001b[0m\u001b[1;32m      4\u001b[0m \u001b[0;34m\u001b[0m\u001b[0m\n\u001b[1;32m      5\u001b[0m \u001b[0;32mdef\u001b[0m \u001b[0mcalculator\u001b[0m\u001b[0;34m(\u001b[0m\u001b[0mop\u001b[0m\u001b[0;34m)\u001b[0m\u001b[0;34m:\u001b[0m\u001b[0;34m\u001b[0m\u001b[0;34m\u001b[0m\u001b[0m\n",
            "\u001b[0;32m/usr/local/lib/python3.10/dist-packages/ipykernel/kernelbase.py\u001b[0m in \u001b[0;36mraw_input\u001b[0;34m(self, prompt)\u001b[0m\n\u001b[1;32m    849\u001b[0m                 \u001b[0;34m\"raw_input was called, but this frontend does not support input requests.\"\u001b[0m\u001b[0;34m\u001b[0m\u001b[0;34m\u001b[0m\u001b[0m\n\u001b[1;32m    850\u001b[0m             )\n\u001b[0;32m--> 851\u001b[0;31m         return self._input_request(str(prompt),\n\u001b[0m\u001b[1;32m    852\u001b[0m             \u001b[0mself\u001b[0m\u001b[0;34m.\u001b[0m\u001b[0m_parent_ident\u001b[0m\u001b[0;34m,\u001b[0m\u001b[0;34m\u001b[0m\u001b[0;34m\u001b[0m\u001b[0m\n\u001b[1;32m    853\u001b[0m             \u001b[0mself\u001b[0m\u001b[0;34m.\u001b[0m\u001b[0m_parent_header\u001b[0m\u001b[0;34m,\u001b[0m\u001b[0;34m\u001b[0m\u001b[0;34m\u001b[0m\u001b[0m\n",
            "\u001b[0;32m/usr/local/lib/python3.10/dist-packages/ipykernel/kernelbase.py\u001b[0m in \u001b[0;36m_input_request\u001b[0;34m(self, prompt, ident, parent, password)\u001b[0m\n\u001b[1;32m    893\u001b[0m             \u001b[0;32mexcept\u001b[0m \u001b[0mKeyboardInterrupt\u001b[0m\u001b[0;34m:\u001b[0m\u001b[0;34m\u001b[0m\u001b[0;34m\u001b[0m\u001b[0m\n\u001b[1;32m    894\u001b[0m                 \u001b[0;31m# re-raise KeyboardInterrupt, to truncate traceback\u001b[0m\u001b[0;34m\u001b[0m\u001b[0;34m\u001b[0m\u001b[0m\n\u001b[0;32m--> 895\u001b[0;31m                 \u001b[0;32mraise\u001b[0m \u001b[0mKeyboardInterrupt\u001b[0m\u001b[0;34m(\u001b[0m\u001b[0;34m\"Interrupted by user\"\u001b[0m\u001b[0;34m)\u001b[0m \u001b[0;32mfrom\u001b[0m \u001b[0;32mNone\u001b[0m\u001b[0;34m\u001b[0m\u001b[0;34m\u001b[0m\u001b[0m\n\u001b[0m\u001b[1;32m    896\u001b[0m             \u001b[0;32mexcept\u001b[0m \u001b[0mException\u001b[0m \u001b[0;32mas\u001b[0m \u001b[0me\u001b[0m\u001b[0;34m:\u001b[0m\u001b[0;34m\u001b[0m\u001b[0;34m\u001b[0m\u001b[0m\n\u001b[1;32m    897\u001b[0m                 \u001b[0mself\u001b[0m\u001b[0;34m.\u001b[0m\u001b[0mlog\u001b[0m\u001b[0;34m.\u001b[0m\u001b[0mwarning\u001b[0m\u001b[0;34m(\u001b[0m\u001b[0;34m\"Invalid Message:\"\u001b[0m\u001b[0;34m,\u001b[0m \u001b[0mexc_info\u001b[0m\u001b[0;34m=\u001b[0m\u001b[0;32mTrue\u001b[0m\u001b[0;34m)\u001b[0m\u001b[0;34m\u001b[0m\u001b[0;34m\u001b[0m\u001b[0m\n",
            "\u001b[0;31mKeyboardInterrupt\u001b[0m: Interrupted by user"
          ]
        }
      ],
      "source": [
        "\n",
        "print(\"Welcome to the calculator\")\n",
        "\n",
        "name = input(\"What is your name?: \")\n",
        "\n",
        "def calculator(op): #addition section\n",
        "  if op == \"add\":\n",
        "    while True:\n",
        "      try:\n",
        "        add1 = float(input(\"Enter the 1st number: \"))\n",
        "        add2 = float(input(\"Enter the 2nd number: \"))\n",
        "        break\n",
        "      except ValueError: # occurs if user enters anything other than a number\n",
        "        print(\"Uh Oh, try again.\")\n",
        "    print(\"Here you go\",name,\". The answer is:\", float(add1) + float(add2))\n",
        "\n",
        "\n",
        "  elif op == \"sub\": #subtraction section\n",
        "    while True:\n",
        "      try:\n",
        "        sub1 = float(input(\"Enter the 1st number: \"))\n",
        "        sub2 = float(input(\"Enter the 2nd number: \"))\n",
        "        break\n",
        "      except ValueError: # occurs if user enters anything other than a number\n",
        "       print(\"Uh Oh, try again\")\n",
        "    print(\"Hi,\",name,\". Your answer is\", float(sub1) - float(sub2))\n",
        "\n",
        "  elif op == \"mul\": # mulitplication section\n",
        "    while True:\n",
        "      try:\n",
        "        mul1 = float(input(\"Enter the 1st number: \"))\n",
        "        mul2 = float(input(\"Enter the 2nd number: \"))\n",
        "        break\n",
        "      except ValueError: # occurs if user enters anything other than a number\n",
        "        print(\"Uh Oh, try again.\")\n",
        "    print(\"Hooray,\",name,\". Your answer is\", float(mul1) * float(mul2))\n",
        "\n",
        "\n",
        "  elif op == \"div\": #division section\n",
        "    while True:\n",
        "      try:\n",
        "       div1 = float(input(\"Enter the 1st number: \"))\n",
        "       div2 = float(input(\"Enter the 2nd number: \"))\n",
        "       final = float(div1) / float(div2)\n",
        "       break\n",
        "      except ZeroDivisionError: # redirects user if they try to divide by zero\n",
        "       print(\"Oops, you can't divide by zero silly!\")\n",
        "      except ValueError: # occurs if user enters anything other than a number\n",
        "        print(\"Uh Oh, try again.\")\n",
        "    print(\"After crunching down the numbers\",name,\". Your final result is\",float(final))\n",
        "\n",
        "\n",
        "  elif op == \"exp\": #exponents section\n",
        "    while True:\n",
        "      try:\n",
        "       exp1 = float(input(\"Enter the 1st number: \"))\n",
        "       exp2 = float(input(\"Enter the 2nd number: \"))\n",
        "       break\n",
        "      except ValueError: # occurs if user enters anything other than a number\n",
        "         print(\"Uh Oh, try again\")\n",
        "    print(\"And the results are in ... The answer is\", float(exp1) ** float(exp2))\n",
        "\n",
        "  elif op == \"sqrt\": #square root section\n",
        "    while True:\n",
        "        try:\n",
        "             sqrt1 = float(input(\"Enter a number: \"))\n",
        "             if sqrt1 < 0:\n",
        "               print(\"Impossible let's try one more time.\")\n",
        "               continue\n",
        "             result = float(sqrt1) ** 0.5\n",
        "             print(\"Drum Rolls please... Congrats,\",name, \" the answer is\", result)\n",
        "             break\n",
        "        except ValueError: # occurs if user enters anything other than a number\n",
        "          print(\"Uh Oh, try again\")\n",
        "\n",
        "\n",
        "while True: #displays the options for the user\n",
        "  print(\"add for addition\")\n",
        "  print(\"sub for subtraction\")\n",
        "  print(\"mul for mulitplication\")\n",
        "  print(\"div for division\")\n",
        "  print(\"exp for exponents\")\n",
        "  print(\"sqrt for square root\")\n",
        "  print(\"quit to quit\")\n",
        "  op = input(\"Choose an operation: \")\n",
        "\n",
        "\n",
        "  if op == \"quit\": #allows user to exit program\n",
        "    print(\"So sad to see you go, bye bye!\")\n",
        "    break\n",
        "\n",
        "  calculator(op)\n",
        "\n"
      ]
    },
    {
      "cell_type": "markdown",
      "metadata": {
        "id": "SW4Xu9tTbHgB"
      },
      "source": [
        "Analysis:\n",
        "\n",
        "Functions simplify the code structure by providng the guidelines needed to make sure things don't go out of bounds. It forces you to think of and prevent different user errors prior to them actually occuring. It also allows you to keep everything in neat categories that you can reference and check at a later time. When it comes to potential improvements, adding a bigger operation variety is one of them. Another possible suggestion is rearranging the code so that once you choose an operation the extra wording goes away and you can see the \"Enter 1st number\" part more clearly. Both of these features can help keep the calculator neat and organized for the user."
      ]
    },
    {
      "cell_type": "code",
      "execution_count": null,
      "metadata": {
        "id": "-cVwhce_YYaf"
      },
      "outputs": [],
      "source": [
        "\n"
      ]
    }
  ],
  "metadata": {
    "colab": {
      "provenance": []
    },
    "kernelspec": {
      "display_name": "Python 3",
      "name": "python3"
    },
    "language_info": {
      "name": "python"
    }
  },
  "nbformat": 4,
  "nbformat_minor": 0
}